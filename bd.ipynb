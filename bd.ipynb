{
 "cells": [
  {
   "cell_type": "markdown",
   "metadata": {},
   "source": [
    "# Importaciones"
   ]
  },
  {
   "cell_type": "code",
   "execution_count": 1,
   "metadata": {},
   "outputs": [],
   "source": [
    "\n",
    "from datetime import datetime\n",
    "from datetime import timedelta\n",
    "import concurrent.futures\n",
    "from pytz import timezone\n",
    "\n",
    "import psycopg\n",
    "import newspaper\n",
    "\n",
    "from extract_news import news_extractor_per_media, news_extractor_per_media_concurrent\n",
    "from medias.medias_list import medias_dict"
   ]
  },
  {
   "cell_type": "markdown",
   "metadata": {},
   "source": [
    "# Notas"
   ]
  },
  {
   "cell_type": "markdown",
   "metadata": {},
   "source": [
    "* Documentación de [psycopg3](https://www.psycopg.org/psycopg3/docs/basic/index.html)\n",
    "* Documentación de [Newspaper4k](https://pypi.org/project/newspaper4k/)\n",
    "* *connections string*: https://www.postgresql.org/docs/current/libpq-connect.html#LIBPQ-CONNSTRING"
   ]
  },
  {
   "cell_type": "markdown",
   "metadata": {},
   "source": [
    "Error al usar la función `build` de *newspaper*:\n",
    "\n",
    "* [AttributeError: 'NoneType' object has no attribute 'xpath'](https://github.com/codelucas/newspaper/issues/646)"
   ]
  },
  {
   "cell_type": "markdown",
   "metadata": {},
   "source": [
    "# Base de datos"
   ]
  },
  {
   "cell_type": "code",
   "execution_count": 2,
   "metadata": {},
   "outputs": [],
   "source": [
    "conn_postgresql = psycopg.connect(\n",
    "    host=\"localhost\",\n",
    "    dbname=\"news_kg_v1\",\n",
    "    user=\"postgres\",\n",
    "    password=\"0rioN-689\"\n",
    ")"
   ]
  },
  {
   "cell_type": "code",
   "execution_count": null,
   "metadata": {},
   "outputs": [],
   "source": [
    "conn_postgresql.execute(\n",
    "'''\n",
    "CREATE TABLE IF NOT EXISTS news_chile (\n",
    "  id SERIAL PRIMARY KEY,\n",
    "  media_name VARCHAR(150) NULL,\n",
    "  url TEXT NULL,\n",
    "  date TIMESTAMP NULL,\n",
    "  author VARCHAR(150) NULL,\n",
    "  body TEXT NULL,\n",
    "  keywords TEXT NULL\n",
    ");\n",
    "'''\n",
    ")"
   ]
  },
  {
   "cell_type": "code",
   "execution_count": null,
   "metadata": {},
   "outputs": [],
   "source": [
    "conn_postgresql.commit()"
   ]
  },
  {
   "cell_type": "code",
   "execution_count": null,
   "metadata": {},
   "outputs": [],
   "source": [
    "conn_postgresql.close()"
   ]
  },
  {
   "cell_type": "markdown",
   "metadata": {},
   "source": [
    "## Populando base de datos"
   ]
  },
  {
   "cell_type": "code",
   "execution_count": 3,
   "metadata": {},
   "outputs": [],
   "source": [
    "today = datetime.today()\n",
    "tz = timezone('UTC')\n",
    "today = today.replace(tzinfo=tz)\n",
    "time_delta = timedelta(days=1, hours=today.hour, minutes=today.minute)"
   ]
  },
  {
   "cell_type": "code",
   "execution_count": 4,
   "metadata": {},
   "outputs": [
    {
     "name": "stderr",
     "output_type": "stream",
     "text": [
      "c:\\Users\\leona\\.virtualenvs\\proyecto_kg_news-rvs_gk5n\\lib\\site-packages\\newspaper\\source.py:260: FutureWarning: The behavior of this method will change in future versions. Use specific 'len(elem)' or 'elem is not None' test instead.\n",
      "  if feed.doc:\n"
     ]
    },
    {
     "name": "stdout",
     "output_type": "stream",
     "text": [
      "Ha ocurrido un error con https://www.aricamia.cl/:\n",
      "'NoneType' object has no attribute 'xpath'\n",
      "Ha ocurrido un error con https://elreporterodeiquique.com/:\n",
      "Article is binary data: https://elreporterodeiquique.com/category/deportes/feed\n",
      "Ha ocurrido un error con https://ovallehoy.cl/:\n",
      "'NoneType' object has no attribute 'xpath'\n",
      "Ha ocurrido un error con https://www.observador.cl/:\n",
      "'NoneType' object has no attribute 'xpath'\n",
      "Ha ocurrido un error con https://www.elinformador.cl/:\n",
      "'NoneType' object has no attribute 'xpath'\n"
     ]
    },
    {
     "name": "stderr",
     "output_type": "stream",
     "text": [
      "c:\\Users\\leona\\.virtualenvs\\proyecto_kg_news-rvs_gk5n\\lib\\site-packages\\PIL\\TiffImagePlugin.py:870: UserWarning: Corrupt EXIF data.  Expecting to read 2 bytes but only got 0. \n",
      "  warnings.warn(str(msg))\n"
     ]
    },
    {
     "name": "stdout",
     "output_type": "stream",
     "text": [
      "Ha ocurrido un error con https://www.laizquierdadiario.cl/Chile:\n",
      "Http error when downloading https://www.laizquierdadiario.cl/Chile. Status code: {status_code}\n",
      "Ha ocurrido un error con https://www.biobiochile.cl/:\n",
      "Article is binary data: https://www.biobiochile.cl/frecuencias_rbb.pdf\n",
      "Ha ocurrido un error con https://www.elperiscopio.cl/:\n",
      "'NoneType' object has no attribute 'xpath'\n",
      "Ha ocurrido un error con https://www.theclinic.cl/:\n",
      "Http error when downloading https://www.theclinic.cl/. Status code: {status_code}\n"
     ]
    }
   ],
   "source": [
    "news_extractor_per_media(\n",
    "    country='chile',\n",
    "    medias=medias_dict,\n",
    "    today=today,\n",
    "    t_delta=time_delta,\n",
    "    conn=conn_postgresql\n",
    ")"
   ]
  },
  {
   "cell_type": "code",
   "execution_count": 4,
   "metadata": {},
   "outputs": [
    {
     "name": "stdout",
     "output_type": "stream",
     "text": [
      "Ha ocurrido un error con https://www.aricamia.cl/:\n",
      "'NoneType' object has no attribute 'xpath'\n",
      "Concluida extracción de noticias de https://www.aricamia.cl/\n"
     ]
    },
    {
     "name": "stderr",
     "output_type": "stream",
     "text": [
      "c:\\Users\\leona\\.virtualenvs\\proyecto_kg_news-rvs_gk5n\\lib\\site-packages\\newspaper\\source.py:260: FutureWarning: The behavior of this method will change in future versions. Use specific 'len(elem)' or 'elem is not None' test instead.\n",
      "  if feed.doc:\n"
     ]
    },
    {
     "name": "stdout",
     "output_type": "stream",
     "text": [
      "Concluida extracción de noticias de https://www.chasquis.cl/diario/\n",
      "Concluida extracción de noticias de https://lakalle.cl/\n",
      "Concluida extracción de noticias de https://www.aricahoy.cl/\n",
      "Concluida extracción de noticias de https://www.elnortero.cl/\n",
      "Concluida extracción de noticias de https://www.elmorrocotudo.cl/\n",
      "Concluida extracción de noticias de https://www.elboyaldia.cl/\n",
      "Concluida extracción de noticias de https://www.diarioantofagasta.cl/\n",
      "Ha ocurrido un error con https://elreporterodeiquique.com/:\n",
      "Article is binary data: https://elreporterodeiquique.com/category/deportes/rss\n",
      "Concluida extracción de noticias de https://elreporterodeiquique.com/\n",
      "Concluida extracción de noticias de https://www.aricaldia.cl/\n",
      "Concluida extracción de noticias de https://www.elquehaydecierto.cl/\n",
      "Concluida extracción de noticias de https://www.atacamaenlinea.cl/\n",
      "Concluida extracción de noticias de http://www.elovallino.cl/\n",
      "Concluida extracción de noticias de https://www.diarioeldia.cl/\n",
      "Concluida extracción de noticias de https://www.elserenense.cl/\n",
      "Concluida extracción de noticias de https://elsoldeiquique.cl/\n",
      "Concluida extracción de noticias de https://elamerica.cl/\n",
      "Concluida extracción de noticias de https://www.atacamanoticias.cl/\n",
      "Concluida extracción de noticias de https://www.laperladellimari.cl/\n",
      "Concluida extracción de noticias de https://www.antofagastanoticias.cl/\n",
      "Ha ocurrido un error con https://eltrabajo.cl/portal/:\n",
      "'NoneType' object has no attribute 'xpath'\n",
      "Concluida extracción de noticias de https://eltrabajo.cl/portal/\n",
      "Concluida extracción de noticias de https://enlalinea.cl/home/\n",
      "Concluida extracción de noticias de https://www.elcoquimbano.cl/\n",
      "Concluida extracción de noticias de https://elproa.cl/\n",
      "Concluida extracción de noticias de https://www.aconcaguadigital.cl/\n",
      "Concluida extracción de noticias de https://www.elaconcagua.cl/\n",
      "Concluida extracción de noticias de http://www.losandesonline.cl/\n",
      "Concluida extracción de noticias de https://www.elmartutino.cl/\n",
      "Concluida extracción de noticias de https://laregionhoy.cl/\n",
      "Concluida extracción de noticias de https://laserenaonline.cl/\n",
      "Concluida extracción de noticias de http://www.elandino.cl/\n",
      "Concluida extracción de noticias de https://ovallehoy.cl/\n",
      "Ha ocurrido un error con https://www.biobiochile.cl/:\n",
      "Article is binary data: https://www.biobiochile.cl/frecuencias_rbb.pdf\n",
      "Concluida extracción de noticias de https://www.biobiochile.cl/\n",
      "Concluida extracción de noticias de https://tierramarillano.cl/\n",
      "Concluida extracción de noticias de https://www.chanarcillo.cl/\n",
      "Ha ocurrido un error con https://www.elperiscopio.cl/:\n",
      "'NoneType' object has no attribute 'xpath'\n",
      "Concluida extracción de noticias de https://www.elperiscopio.cl/\n",
      "Concluida extracción de noticias de https://www.adnradio.cl/\n",
      "Concluida extracción de noticias de https://www.epicentrochile.com/\n",
      "Concluida extracción de noticias de https://www.elmostrador.cl/\n",
      "Concluida extracción de noticias de https://www.gamba.cl/\n",
      "Concluida extracción de noticias de https://www.latercera.com/canal/pulso/\n",
      "Concluida extracción de noticias de https://interferencia.cl/\n",
      "Concluida extracción de noticias de https://www.observador.cl/\n",
      "Concluida extracción de noticias de https://www.emol.com\n",
      "Concluida extracción de noticias de https://www.centralweb.cl/\n",
      "Concluida extracción de noticias de https://www.tusnoticias.cl/\n",
      "Concluida extracción de noticias de https://www.larazon.cl/\n",
      "Ha ocurrido un error con https://www.theclinic.cl/:\n",
      "Http error when downloading https://www.theclinic.cl/. Status code: {status_code}\n",
      "Concluida extracción de noticias de https://www.theclinic.cl/\n",
      "Concluida extracción de noticias de https://www.elobservatodo.cl/\n",
      "Concluida extracción de noticias de https://elsiglo.cl/\n",
      "Concluida extracción de noticias de https://www.eldinamo.cl/\n",
      "Concluida extracción de noticias de https://forbes.cl/\n",
      "Concluida extracción de noticias de https://elcomunicador.cl/\n",
      "Concluida extracción de noticias de https://www.elperiodista.cl/\n",
      "Concluida extracción de noticias de https://cooperativa.cl/\n",
      "Concluida extracción de noticias de https://prensaopal.cl/\n",
      "Concluida extracción de noticias de https://www.ciperchile.cl/\n",
      "Concluida extracción de noticias de https://puranoticia.pnt.cl/\n",
      "Concluida extracción de noticias de https://www.elinformador.cl/\n",
      "Concluida extracción de noticias de https://www.24horas.cl/\n",
      "Concluida extracción de noticias de https://radio.ucentral.cl/\n",
      "Concluida extracción de noticias de https://www.meganoticias.cl/\n",
      "Concluida extracción de noticias de https://www.radioagricultura.cl/\n",
      "Ha ocurrido un error con https://elcachapoal.cl/:\n",
      "'NoneType' object has no attribute 'xpath'\n",
      "Concluida extracción de noticias de https://elcachapoal.cl/\n",
      "Concluida extracción de noticias de https://www.pagina7.cl/\n",
      "Concluida extracción de noticias de https://www.diarioestrategia.cl/\n",
      "Concluida extracción de noticias de https://www.lanacion.cl/\n",
      "Concluida extracción de noticias de http://www.latribunadecolchagua.cl/\n",
      "Concluida extracción de noticias de https://verdadahora.cl/\n",
      "Concluida extracción de noticias de https://elsancarlino.cl/\n",
      "Concluida extracción de noticias de https://www.redmaule.com/\n",
      "Concluida extracción de noticias de https://www.soychile.cl/\n",
      "Concluida extracción de noticias de https://araucaniadiario.cl/\n",
      "Concluida extracción de noticias de https://www.elamaule.cl/\n",
      "Concluida extracción de noticias de https://www.latribuna.cl/\n",
      "Concluida extracción de noticias de https://redgol.cl/\n",
      "Concluida extracción de noticias de https://elcontraste.cl/\n",
      "Concluida extracción de noticias de https://diariocurico.cl/\n",
      "Concluida extracción de noticias de https://www.diarioconcepcion.cl/\n",
      "Concluida extracción de noticias de https://resumen.cl/\n",
      "Concluida extracción de noticias de https://www.pagina7.cl/\n",
      "Concluida extracción de noticias de https://araucaniadiario.cl/\n",
      "Concluida extracción de noticias de https://www.elconcecuente.cl/\n",
      "Concluida extracción de noticias de https://diariolaquinta.cl/\n",
      "Concluida extracción de noticias de https://sabes.cl/\n",
      "Concluida extracción de noticias de https://diariocauquenes.cl/\n",
      "Concluida extracción de noticias de https://www.prensaciudadana.cl/\n",
      "Ha ocurrido un error con https://www.angolinos.cl/:\n",
      "'NoneType' object has no attribute 'xpath'\n",
      "Concluida extracción de noticias de https://www.angolinos.cl/\n",
      "Concluida extracción de noticias de https://temucodiario.cl/\n",
      "Ha ocurrido un error con https://correodellago.cl/:\n",
      "'NoneType' object has no attribute 'xpath'\n",
      "Concluida extracción de noticias de https://correodellago.cl/\n",
      "Concluida extracción de noticias de http://www.primeranota.cl/web/\n",
      "Concluida extracción de noticias de https://www.laopinon.cl/\n",
      "Concluida extracción de noticias de https://www.linaresenlinea.cl/\n",
      "Concluida extracción de noticias de https://www.clave9.cl/\n",
      "Concluida extracción de noticias de https://diarioelranco.cl/\n",
      "Concluida extracción de noticias de https://lasnoticiasdemalleco.cl/\n",
      "Ha ocurrido un error con https://www.lavozdepaillaco.cl/:\n",
      "'NoneType' object has no attribute 'xpath'\n",
      "Concluida extracción de noticias de https://www.lavozdepaillaco.cl/\n",
      "Concluida extracción de noticias de https://www.angelino.cl/\n",
      "Concluida extracción de noticias de https://www.diariodevaldivia.cl/\n",
      "Concluida extracción de noticias de https://www.malleco7.cl/\n",
      "Concluida extracción de noticias de https://www.rioenlinea.cl/\n",
      "Concluida extracción de noticias de https://araucanianoticias.cl/\n",
      "Concluida extracción de noticias de https://diarioelranco.cl/\n",
      "Ha ocurrido un error con https://www.lavozdepaillaco.cl/:\n",
      "'NoneType' object has no attribute 'xpath'\n",
      "Concluida extracción de noticias de https://www.lavozdepaillaco.cl/\n",
      "Concluida extracción de noticias de https://www.diariolaunion.cl/\n",
      "Ha ocurrido un error con https://www.lapaila.cl/:\n",
      "'NoneType' object has no attribute 'xpath'\n",
      "Concluida extracción de noticias de https://www.lapaila.cl/\n",
      "Concluida extracción de noticias de https://www.losriosaldia.cl/\n",
      "Concluida extracción de noticias de https://www.diarioriobueno.cl/\n",
      "Concluida extracción de noticias de https://www.noticiasdellago.cl/\n",
      "Concluida extracción de noticias de https://www.elnaveghable.cl/\n",
      "Concluida extracción de noticias de https://www.elrancaguino.cl/\n",
      "Concluida extracción de noticias de https://www.diariodepuertomontt.cl/\n",
      "Concluida extracción de noticias de https://www.diariopaillaco.cl/\n",
      "Concluida extracción de noticias de https://www.diariochiloe.cl/\n",
      "Concluida extracción de noticias de http://www.eldivisadero.cl/\n",
      "Ha ocurrido un error con https://www.elchelenko.cl/:\n",
      "'NoneType' object has no attribute 'xpath'\n",
      "Concluida extracción de noticias de https://www.elchelenko.cl/\n",
      "Concluida extracción de noticias de https://periodicolosrios.cl/\n",
      "Concluida extracción de noticias de https://www.suractual.cl/\n",
      "Concluida extracción de noticias de http://diariopuertovaras.cl/\n",
      "Concluida extracción de noticias de https://www.eha.cl/\n",
      "Concluida extracción de noticias de https://innovacion.cl/\n",
      "Concluida extracción de noticias de https://www.diariodeosorno.cl/\n",
      "Concluida extracción de noticias de https://www.laizquierdadiario.cl/Chile\n",
      "Concluida extracción de noticias de https://www.noticiaslosrios.cl/\n",
      "Concluida extracción de noticias de https://www.elpinguino.com/\n",
      "Concluida extracción de noticias de https://www.encancha.cl/\n",
      "Concluida extracción de noticias de https://www.diarioregionalaysen.cl/\n",
      "Concluida extracción de noticias de https://www.alairelibre.cl/\n",
      "Concluida extracción de noticias de https://elmagallanico.com/\n",
      "Concluida extracción de noticias de https://www.ladiscusion.cl/\n",
      "Concluida extracción de noticias de https://m.alairelibre.cl/\n",
      "Concluida extracción de noticias de https://laprensaaustral.cl/\n",
      "Concluida extracción de noticias de https://www.cienciaenchile.cl/category/noticias/\n",
      "Concluida extracción de noticias de https://portalinnova.cl/noticias-de-innovacion/\n",
      "Concluida extracción de noticias de https://innovacionchilena.cl/\n"
     ]
    },
    {
     "name": "stderr",
     "output_type": "stream",
     "text": [
      "c:\\Users\\leona\\.virtualenvs\\proyecto_kg_news-rvs_gk5n\\lib\\site-packages\\PIL\\TiffImagePlugin.py:870: UserWarning: Corrupt EXIF data.  Expecting to read 2 bytes but only got 0. \n",
      "  warnings.warn(str(msg))\n",
      "c:\\Users\\leona\\.virtualenvs\\proyecto_kg_news-rvs_gk5n\\lib\\site-packages\\PIL\\TiffImagePlugin.py:870: UserWarning: Truncated File Read\n",
      "  warnings.warn(str(msg))\n"
     ]
    },
    {
     "name": "stdout",
     "output_type": "stream",
     "text": [
      "Concluida extracción de noticias de https://elhuemul.cl/\n",
      "Concluida extracción de noticias de http://web.elpatagondomingo.cl/\n",
      "Concluida extracción de noticias de https://chile.as.com/\n",
      "Concluida extracción de noticias de https://www.diarioviregion.cl/\n"
     ]
    }
   ],
   "source": [
    "with concurrent.futures.ThreadPoolExecutor() as tpe:\n",
    "    results = [tpe.submit(news_extractor_per_media_concurrent, country='chile', media=media, today=today, t_delta=time_delta, conn=conn_postgresql) for media in medias_dict['chile']]"
   ]
  },
  {
   "cell_type": "markdown",
   "metadata": {},
   "source": [
    "# Consultas"
   ]
  },
  {
   "cell_type": "code",
   "execution_count": 4,
   "metadata": {},
   "outputs": [
    {
     "data": {
      "text/plain": [
       "[(1, None),\n",
       " (2, None),\n",
       " (3, None),\n",
       " (4, None),\n",
       " (5, None),\n",
       " (6, None),\n",
       " (7, None),\n",
       " (8, None),\n",
       " (47, None),\n",
       " (48, None),\n",
       " (9, None),\n",
       " (10, None),\n",
       " (11, None),\n",
       " (12, None),\n",
       " (13, None),\n",
       " (14, None),\n",
       " (15, None),\n",
       " (16, None),\n",
       " (17, None),\n",
       " (18, None),\n",
       " (19, None),\n",
       " (575, None),\n",
       " (576, None),\n",
       " (577, None),\n",
       " (578, None),\n",
       " (20, None),\n",
       " (21, None),\n",
       " (22, None),\n",
       " (23, None),\n",
       " (24, None),\n",
       " (25, None),\n",
       " (26, None),\n",
       " (27, None),\n",
       " (28, None),\n",
       " (655, None),\n",
       " (29, None),\n",
       " (30, None),\n",
       " (31, None),\n",
       " (32, None),\n",
       " (33, None),\n",
       " (34, None),\n",
       " (35, None),\n",
       " (36, None),\n",
       " (61, None),\n",
       " (37, None),\n",
       " (38, None),\n",
       " (39, None),\n",
       " (40, None),\n",
       " (77, None),\n",
       " (656, None)]"
      ]
     },
     "execution_count": 4,
     "metadata": {},
     "output_type": "execute_result"
    }
   ],
   "source": [
    "q = '''\n",
    "SELECT id, keywords FROM news_chile LIMIT 50\n",
    "'''\n",
    "cursor = conn_postgresql.cursor()\n",
    "cursor.execute(q)\n",
    "cursor.fetchall()"
   ]
  },
  {
   "cell_type": "code",
   "execution_count": null,
   "metadata": {},
   "outputs": [],
   "source": []
  }
 ],
 "metadata": {
  "kernelspec": {
   "display_name": "proyecto_kg_news-rvs_gk5n",
   "language": "python",
   "name": "python3"
  },
  "language_info": {
   "codemirror_mode": {
    "name": "ipython",
    "version": 3
   },
   "file_extension": ".py",
   "mimetype": "text/x-python",
   "name": "python",
   "nbconvert_exporter": "python",
   "pygments_lexer": "ipython3",
   "version": "3.9.7"
  }
 },
 "nbformat": 4,
 "nbformat_minor": 2
}
