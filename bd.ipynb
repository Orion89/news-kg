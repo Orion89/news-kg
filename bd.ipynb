{
 "cells": [
  {
   "cell_type": "markdown",
   "metadata": {},
   "source": [
    "# Importaciones"
   ]
  },
  {
   "cell_type": "code",
   "execution_count": 1,
   "metadata": {},
   "outputs": [],
   "source": [
    "\n",
    "from datetime import datetime\n",
    "from datetime import timedelta\n",
    "import concurrent.futures\n",
    "from pytz import timezone\n",
    "\n",
    "import psycopg\n",
    "import newspaper\n",
    "\n",
    "from extract_news import news_extractor_per_media, news_extractor_per_media_concurrent\n",
    "from medias.medias_list import medias_dict"
   ]
  },
  {
   "cell_type": "markdown",
   "metadata": {},
   "source": [
    "# Notas"
   ]
  },
  {
   "cell_type": "markdown",
   "metadata": {},
   "source": [
    "* Documentación de [psycopg3](https://www.psycopg.org/psycopg3/docs/basic/index.html)\n",
    "* Documentación de [Newspaper4k](https://pypi.org/project/newspaper4k/)\n",
    "* *connections string*: https://www.postgresql.org/docs/current/libpq-connect.html#LIBPQ-CONNSTRING"
   ]
  },
  {
   "cell_type": "markdown",
   "metadata": {},
   "source": [
    "Error al usar la función `build` de *newspaper*:\n",
    "\n",
    "* [AttributeError: 'NoneType' object has no attribute 'xpath'](https://github.com/codelucas/newspaper/issues/646)"
   ]
  },
  {
   "cell_type": "markdown",
   "metadata": {},
   "source": [
    "# Base de datos"
   ]
  },
  {
   "cell_type": "code",
   "execution_count": 2,
   "metadata": {},
   "outputs": [],
   "source": [
    "conn_postgresql = psycopg.connect(\n",
    "    host=\"localhost\",\n",
    "    dbname=\"news_kg_v1\",\n",
    "    user=\"postgres\",\n",
    "    password=\"0rioN-689\"\n",
    ")"
   ]
  },
  {
   "cell_type": "code",
   "execution_count": null,
   "metadata": {},
   "outputs": [],
   "source": [
    "conn_postgresql.execute(\n",
    "'''\n",
    "CREATE TABLE IF NOT EXISTS news_chile (\n",
    "  id SERIAL PRIMARY KEY,\n",
    "  media_name VARCHAR(150) NULL,\n",
    "  url TEXT NULL,\n",
    "  date TIMESTAMP NULL,\n",
    "  author VARCHAR(150) NULL,\n",
    "  body TEXT NULL,\n",
    "  keywords TEXT NULL\n",
    ");\n",
    "'''\n",
    ")"
   ]
  },
  {
   "cell_type": "code",
   "execution_count": null,
   "metadata": {},
   "outputs": [],
   "source": [
    "conn_postgresql.commit()"
   ]
  },
  {
   "cell_type": "code",
   "execution_count": null,
   "metadata": {},
   "outputs": [],
   "source": [
    "conn_postgresql.close()"
   ]
  },
  {
   "cell_type": "markdown",
   "metadata": {},
   "source": [
    "## Populando base de datos"
   ]
  },
  {
   "cell_type": "code",
   "execution_count": 3,
   "metadata": {},
   "outputs": [],
   "source": [
    "today = datetime.today()\n",
    "tz = timezone('UTC')\n",
    "today = today.replace(tzinfo=tz)\n",
    "time_delta = timedelta(days=1, hours=today.hour, minutes=today.minute)"
   ]
  },
  {
   "cell_type": "code",
   "execution_count": 4,
   "metadata": {},
   "outputs": [
    {
     "name": "stderr",
     "output_type": "stream",
     "text": [
      "c:\\Users\\leona\\.virtualenvs\\proyecto_kg_news-rvs_gk5n\\lib\\site-packages\\newspaper\\source.py:260: FutureWarning: The behavior of this method will change in future versions. Use specific 'len(elem)' or 'elem is not None' test instead.\n",
      "  if feed.doc:\n"
     ]
    },
    {
     "name": "stdout",
     "output_type": "stream",
     "text": [
      "Ha ocurrido un error con https://www.aricamia.cl/:\n",
      "'NoneType' object has no attribute 'xpath'\n",
      "Ha ocurrido un error con https://elreporterodeiquique.com/:\n",
      "Article is binary data: https://elreporterodeiquique.com/category/deportes/feed\n",
      "Ha ocurrido un error con https://ovallehoy.cl/:\n",
      "'NoneType' object has no attribute 'xpath'\n",
      "Ha ocurrido un error con https://www.observador.cl/:\n",
      "'NoneType' object has no attribute 'xpath'\n",
      "Ha ocurrido un error con https://www.elinformador.cl/:\n",
      "'NoneType' object has no attribute 'xpath'\n"
     ]
    },
    {
     "name": "stderr",
     "output_type": "stream",
     "text": [
      "c:\\Users\\leona\\.virtualenvs\\proyecto_kg_news-rvs_gk5n\\lib\\site-packages\\PIL\\TiffImagePlugin.py:870: UserWarning: Corrupt EXIF data.  Expecting to read 2 bytes but only got 0. \n",
      "  warnings.warn(str(msg))\n"
     ]
    },
    {
     "name": "stdout",
     "output_type": "stream",
     "text": [
      "Ha ocurrido un error con https://www.laizquierdadiario.cl/Chile:\n",
      "Http error when downloading https://www.laizquierdadiario.cl/Chile. Status code: {status_code}\n",
      "Ha ocurrido un error con https://www.biobiochile.cl/:\n",
      "Article is binary data: https://www.biobiochile.cl/frecuencias_rbb.pdf\n",
      "Ha ocurrido un error con https://www.elperiscopio.cl/:\n",
      "'NoneType' object has no attribute 'xpath'\n",
      "Ha ocurrido un error con https://www.theclinic.cl/:\n",
      "Http error when downloading https://www.theclinic.cl/. Status code: {status_code}\n"
     ]
    }
   ],
   "source": [
    "news_extractor_per_media(\n",
    "    country='chile',\n",
    "    medias=medias_dict,\n",
    "    today=today,\n",
    "    t_delta=time_delta,\n",
    "    conn=conn_postgresql\n",
    ")"
   ]
  },
  {
   "cell_type": "code",
   "execution_count": null,
   "metadata": {},
   "outputs": [],
   "source": [
    "with concurrent.futures.ThreadPoolExecutor() as tpe:\n",
    "    results = [tpe.submit(news_extractor_per_media_concurrent, country='chile', media=media, today=today, t_delta=time_delta, conn=conn_postgresql) for media in medias_dict['chile']]"
   ]
  }
 ],
 "metadata": {
  "kernelspec": {
   "display_name": "proyecto_kg_news-rvs_gk5n",
   "language": "python",
   "name": "python3"
  },
  "language_info": {
   "codemirror_mode": {
    "name": "ipython",
    "version": 3
   },
   "file_extension": ".py",
   "mimetype": "text/x-python",
   "name": "python",
   "nbconvert_exporter": "python",
   "pygments_lexer": "ipython3",
   "version": "3.9.7"
  }
 },
 "nbformat": 4,
 "nbformat_minor": 2
}
