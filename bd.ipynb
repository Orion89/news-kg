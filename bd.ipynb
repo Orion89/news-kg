{
 "cells": [
  {
   "cell_type": "markdown",
   "metadata": {},
   "source": [
    "# Importaciones"
   ]
  },
  {
   "cell_type": "code",
   "execution_count": 1,
   "metadata": {},
   "outputs": [
    {
     "name": "stdout",
     "output_type": "stream",
     "text": [
      "c:\\Users\\leona\\.virtualenvs\\proyecto_kg_news-rvs_gk5n\\lib\\site-packages\n"
     ]
    }
   ],
   "source": [
    "from datetime import datetime\n",
    "from datetime import timedelta\n",
    "import concurrent.futures\n",
    "from pytz import timezone\n",
    "\n",
    "import spacy\n",
    "import pytextrank\n",
    "import psycopg\n",
    "import newspaper\n",
    "\n",
    "from extract_news import news_extractor_per_media, news_extractor_per_media_concurrent\n",
    "from medias.medias_list import medias_dict"
   ]
  },
  {
   "cell_type": "code",
   "execution_count": 2,
   "metadata": {},
   "outputs": [],
   "source": [
    "nlp = spacy.load('es_core_news_md')"
   ]
  },
  {
   "cell_type": "markdown",
   "metadata": {},
   "source": [
    "# Notas"
   ]
  },
  {
   "cell_type": "markdown",
   "metadata": {},
   "source": [
    "* Documentación de [psycopg3](https://www.psycopg.org/psycopg3/docs/basic/index.html)\n",
    "* Documentación de [Newspaper4k](https://pypi.org/project/newspaper4k/)\n",
    "* *connections string*: https://www.postgresql.org/docs/current/libpq-connect.html#LIBPQ-CONNSTRING\n",
    "* [Uso de *threts* en Pyscopg 3](https://www.psycopg.org/psycopg3/docs/advanced/async.html)\n",
    "* [Uso de parámetros en consultas](https://www.psycopg.org/psycopg3/docs/basic/params.html)\n",
    "\n",
    "<br>\n",
    "\n",
    "## *Cron jobs* en Railway:\n",
    "* [Cron Jobs](https://docs.railway.app/reference/cron-jobs)\n",
    "* [Running a Scheduled Job](https://docs.railway.app/guides/cron-jobs)\n",
    "* [Ejemplo en JavaScript](https://blog.railway.app/p/cron-jobs)"
   ]
  },
  {
   "cell_type": "markdown",
   "metadata": {},
   "source": [
    "Error al usar la función `build` de *newspaper*:\n",
    "\n",
    "* [AttributeError: 'NoneType' object has no attribute 'xpath'](https://github.com/codelucas/newspaper/issues/646)"
   ]
  },
  {
   "cell_type": "markdown",
   "metadata": {},
   "source": [
    "# Base de datos"
   ]
  },
  {
   "cell_type": "code",
   "execution_count": 4,
   "metadata": {},
   "outputs": [],
   "source": [
    "conn_postgresql = psycopg.connect(\n",
    "    host=\"localhost\",\n",
    "    dbname=\"news_kg_v1\",\n",
    "    user=\"postgres\",\n",
    "    password=\"0rioN-689\"\n",
    ")"
   ]
  },
  {
   "cell_type": "code",
   "execution_count": null,
   "metadata": {},
   "outputs": [],
   "source": [
    "conn_postgresql.execute(\n",
    "'''\n",
    "CREATE TABLE IF NOT EXISTS news_chile (\n",
    "  id SERIAL PRIMARY KEY,\n",
    "  media_name VARCHAR(150) NULL,\n",
    "  url TEXT NULL,\n",
    "  date TIMESTAMP NULL,\n",
    "  author VARCHAR(150) NULL,\n",
    "  body TEXT NULL,\n",
    "  keywords TEXT NULL\n",
    ");\n",
    "'''\n",
    ")"
   ]
  },
  {
   "cell_type": "code",
   "execution_count": null,
   "metadata": {},
   "outputs": [],
   "source": [
    "conn_postgresql.commit()"
   ]
  },
  {
   "cell_type": "code",
   "execution_count": null,
   "metadata": {},
   "outputs": [],
   "source": [
    "conn_postgresql.close()"
   ]
  },
  {
   "cell_type": "markdown",
   "metadata": {},
   "source": [
    "## Populando base de datos"
   ]
  },
  {
   "cell_type": "code",
   "execution_count": 3,
   "metadata": {},
   "outputs": [],
   "source": [
    "today = datetime.today()\n",
    "tz = timezone('UTC')\n",
    "today = today.replace(tzinfo=tz)\n",
    "time_delta = timedelta(days=1, hours=today.hour, minutes=today.minute)"
   ]
  },
  {
   "cell_type": "code",
   "execution_count": 4,
   "metadata": {},
   "outputs": [
    {
     "name": "stderr",
     "output_type": "stream",
     "text": [
      "c:\\Users\\leona\\.virtualenvs\\proyecto_kg_news-rvs_gk5n\\lib\\site-packages\\newspaper\\source.py:260: FutureWarning: The behavior of this method will change in future versions. Use specific 'len(elem)' or 'elem is not None' test instead.\n",
      "  if feed.doc:\n"
     ]
    },
    {
     "name": "stdout",
     "output_type": "stream",
     "text": [
      "Ha ocurrido un error con https://www.aricamia.cl/:\n",
      "'NoneType' object has no attribute 'xpath'\n",
      "Ha ocurrido un error con https://elreporterodeiquique.com/:\n",
      "Article is binary data: https://elreporterodeiquique.com/category/deportes/feed\n",
      "Ha ocurrido un error con https://ovallehoy.cl/:\n",
      "'NoneType' object has no attribute 'xpath'\n",
      "Ha ocurrido un error con https://www.observador.cl/:\n",
      "'NoneType' object has no attribute 'xpath'\n",
      "Ha ocurrido un error con https://www.elinformador.cl/:\n",
      "'NoneType' object has no attribute 'xpath'\n"
     ]
    },
    {
     "name": "stderr",
     "output_type": "stream",
     "text": [
      "c:\\Users\\leona\\.virtualenvs\\proyecto_kg_news-rvs_gk5n\\lib\\site-packages\\PIL\\TiffImagePlugin.py:870: UserWarning: Corrupt EXIF data.  Expecting to read 2 bytes but only got 0. \n",
      "  warnings.warn(str(msg))\n"
     ]
    },
    {
     "name": "stdout",
     "output_type": "stream",
     "text": [
      "Ha ocurrido un error con https://www.laizquierdadiario.cl/Chile:\n",
      "Http error when downloading https://www.laizquierdadiario.cl/Chile. Status code: {status_code}\n",
      "Ha ocurrido un error con https://www.biobiochile.cl/:\n",
      "Article is binary data: https://www.biobiochile.cl/frecuencias_rbb.pdf\n",
      "Ha ocurrido un error con https://www.elperiscopio.cl/:\n",
      "'NoneType' object has no attribute 'xpath'\n",
      "Ha ocurrido un error con https://www.theclinic.cl/:\n",
      "Http error when downloading https://www.theclinic.cl/. Status code: {status_code}\n"
     ]
    }
   ],
   "source": [
    "news_extractor_per_media(\n",
    "    country='chile',\n",
    "    medias=medias_dict,\n",
    "    today=today,\n",
    "    t_delta=time_delta,\n",
    "    conn=conn_postgresql\n",
    ")"
   ]
  },
  {
   "cell_type": "code",
   "execution_count": 4,
   "metadata": {},
   "outputs": [
    {
     "name": "stdout",
     "output_type": "stream",
     "text": [
      "Ha ocurrido un error con https://www.aricamia.cl/:\n",
      "'NoneType' object has no attribute 'xpath'\n",
      "Concluida extracción de noticias de https://www.aricamia.cl/\n"
     ]
    },
    {
     "name": "stderr",
     "output_type": "stream",
     "text": [
      "c:\\Users\\leona\\.virtualenvs\\proyecto_kg_news-rvs_gk5n\\lib\\site-packages\\newspaper\\source.py:260: FutureWarning: The behavior of this method will change in future versions. Use specific 'len(elem)' or 'elem is not None' test instead.\n",
      "  if feed.doc:\n"
     ]
    },
    {
     "name": "stdout",
     "output_type": "stream",
     "text": [
      "Concluida extracción de noticias de https://www.chasquis.cl/diario/\n",
      "Concluida extracción de noticias de https://lakalle.cl/\n",
      "Concluida extracción de noticias de https://www.aricahoy.cl/\n",
      "Concluida extracción de noticias de https://www.elnortero.cl/\n",
      "Concluida extracción de noticias de https://www.elmorrocotudo.cl/\n",
      "Concluida extracción de noticias de https://www.elboyaldia.cl/\n",
      "Concluida extracción de noticias de https://www.diarioantofagasta.cl/\n",
      "Ha ocurrido un error con https://elreporterodeiquique.com/:\n",
      "Article is binary data: https://elreporterodeiquique.com/category/deportes/rss\n",
      "Concluida extracción de noticias de https://elreporterodeiquique.com/\n",
      "Concluida extracción de noticias de https://www.aricaldia.cl/\n",
      "Concluida extracción de noticias de https://www.elquehaydecierto.cl/\n",
      "Concluida extracción de noticias de https://www.atacamaenlinea.cl/\n",
      "Concluida extracción de noticias de http://www.elovallino.cl/\n",
      "Concluida extracción de noticias de https://www.diarioeldia.cl/\n",
      "Concluida extracción de noticias de https://www.elserenense.cl/\n",
      "Concluida extracción de noticias de https://elsoldeiquique.cl/\n",
      "Concluida extracción de noticias de https://elamerica.cl/\n",
      "Concluida extracción de noticias de https://www.atacamanoticias.cl/\n",
      "Concluida extracción de noticias de https://www.laperladellimari.cl/\n",
      "Concluida extracción de noticias de https://www.antofagastanoticias.cl/\n",
      "Ha ocurrido un error con https://eltrabajo.cl/portal/:\n",
      "'NoneType' object has no attribute 'xpath'\n",
      "Concluida extracción de noticias de https://eltrabajo.cl/portal/\n",
      "Concluida extracción de noticias de https://enlalinea.cl/home/\n",
      "Concluida extracción de noticias de https://www.elcoquimbano.cl/\n",
      "Concluida extracción de noticias de https://elproa.cl/\n",
      "Concluida extracción de noticias de https://www.aconcaguadigital.cl/\n",
      "Concluida extracción de noticias de https://www.elaconcagua.cl/\n",
      "Concluida extracción de noticias de http://www.losandesonline.cl/\n",
      "Concluida extracción de noticias de https://www.elmartutino.cl/\n",
      "Concluida extracción de noticias de https://laregionhoy.cl/\n",
      "Concluida extracción de noticias de https://laserenaonline.cl/\n",
      "Concluida extracción de noticias de http://www.elandino.cl/\n",
      "Concluida extracción de noticias de https://ovallehoy.cl/\n",
      "Ha ocurrido un error con https://www.biobiochile.cl/:\n",
      "Article is binary data: https://www.biobiochile.cl/frecuencias_rbb.pdf\n",
      "Concluida extracción de noticias de https://www.biobiochile.cl/\n",
      "Concluida extracción de noticias de https://tierramarillano.cl/\n",
      "Concluida extracción de noticias de https://www.chanarcillo.cl/\n",
      "Ha ocurrido un error con https://www.elperiscopio.cl/:\n",
      "'NoneType' object has no attribute 'xpath'\n",
      "Concluida extracción de noticias de https://www.elperiscopio.cl/\n",
      "Concluida extracción de noticias de https://www.adnradio.cl/\n",
      "Concluida extracción de noticias de https://www.epicentrochile.com/\n",
      "Concluida extracción de noticias de https://www.elmostrador.cl/\n",
      "Concluida extracción de noticias de https://www.gamba.cl/\n",
      "Concluida extracción de noticias de https://www.latercera.com/canal/pulso/\n",
      "Concluida extracción de noticias de https://interferencia.cl/\n",
      "Concluida extracción de noticias de https://www.observador.cl/\n",
      "Concluida extracción de noticias de https://www.emol.com\n",
      "Concluida extracción de noticias de https://www.centralweb.cl/\n",
      "Concluida extracción de noticias de https://www.tusnoticias.cl/\n",
      "Concluida extracción de noticias de https://www.larazon.cl/\n",
      "Ha ocurrido un error con https://www.theclinic.cl/:\n",
      "Http error when downloading https://www.theclinic.cl/. Status code: {status_code}\n",
      "Concluida extracción de noticias de https://www.theclinic.cl/\n",
      "Concluida extracción de noticias de https://www.elobservatodo.cl/\n",
      "Concluida extracción de noticias de https://elsiglo.cl/\n",
      "Concluida extracción de noticias de https://www.eldinamo.cl/\n",
      "Concluida extracción de noticias de https://forbes.cl/\n",
      "Concluida extracción de noticias de https://elcomunicador.cl/\n",
      "Concluida extracción de noticias de https://www.elperiodista.cl/\n",
      "Concluida extracción de noticias de https://cooperativa.cl/\n",
      "Concluida extracción de noticias de https://prensaopal.cl/\n",
      "Concluida extracción de noticias de https://www.ciperchile.cl/\n",
      "Concluida extracción de noticias de https://puranoticia.pnt.cl/\n",
      "Concluida extracción de noticias de https://www.elinformador.cl/\n",
      "Concluida extracción de noticias de https://www.24horas.cl/\n",
      "Concluida extracción de noticias de https://radio.ucentral.cl/\n",
      "Concluida extracción de noticias de https://www.meganoticias.cl/\n",
      "Concluida extracción de noticias de https://www.radioagricultura.cl/\n",
      "Ha ocurrido un error con https://elcachapoal.cl/:\n",
      "'NoneType' object has no attribute 'xpath'\n",
      "Concluida extracción de noticias de https://elcachapoal.cl/\n",
      "Concluida extracción de noticias de https://www.pagina7.cl/\n",
      "Concluida extracción de noticias de https://www.diarioestrategia.cl/\n",
      "Concluida extracción de noticias de https://www.lanacion.cl/\n",
      "Concluida extracción de noticias de http://www.latribunadecolchagua.cl/\n",
      "Concluida extracción de noticias de https://verdadahora.cl/\n",
      "Concluida extracción de noticias de https://elsancarlino.cl/\n",
      "Concluida extracción de noticias de https://www.redmaule.com/\n",
      "Concluida extracción de noticias de https://www.soychile.cl/\n",
      "Concluida extracción de noticias de https://araucaniadiario.cl/\n",
      "Concluida extracción de noticias de https://www.elamaule.cl/\n",
      "Concluida extracción de noticias de https://www.latribuna.cl/\n",
      "Concluida extracción de noticias de https://redgol.cl/\n",
      "Concluida extracción de noticias de https://elcontraste.cl/\n",
      "Concluida extracción de noticias de https://diariocurico.cl/\n",
      "Concluida extracción de noticias de https://www.diarioconcepcion.cl/\n",
      "Concluida extracción de noticias de https://resumen.cl/\n",
      "Concluida extracción de noticias de https://www.pagina7.cl/\n",
      "Concluida extracción de noticias de https://araucaniadiario.cl/\n",
      "Concluida extracción de noticias de https://www.elconcecuente.cl/\n",
      "Concluida extracción de noticias de https://diariolaquinta.cl/\n",
      "Concluida extracción de noticias de https://sabes.cl/\n",
      "Concluida extracción de noticias de https://diariocauquenes.cl/\n",
      "Concluida extracción de noticias de https://www.prensaciudadana.cl/\n",
      "Ha ocurrido un error con https://www.angolinos.cl/:\n",
      "'NoneType' object has no attribute 'xpath'\n",
      "Concluida extracción de noticias de https://www.angolinos.cl/\n",
      "Concluida extracción de noticias de https://temucodiario.cl/\n",
      "Ha ocurrido un error con https://correodellago.cl/:\n",
      "'NoneType' object has no attribute 'xpath'\n",
      "Concluida extracción de noticias de https://correodellago.cl/\n",
      "Concluida extracción de noticias de http://www.primeranota.cl/web/\n",
      "Concluida extracción de noticias de https://www.laopinon.cl/\n",
      "Concluida extracción de noticias de https://www.linaresenlinea.cl/\n",
      "Concluida extracción de noticias de https://www.clave9.cl/\n",
      "Concluida extracción de noticias de https://diarioelranco.cl/\n",
      "Concluida extracción de noticias de https://lasnoticiasdemalleco.cl/\n",
      "Ha ocurrido un error con https://www.lavozdepaillaco.cl/:\n",
      "'NoneType' object has no attribute 'xpath'\n",
      "Concluida extracción de noticias de https://www.lavozdepaillaco.cl/\n",
      "Concluida extracción de noticias de https://www.angelino.cl/\n",
      "Concluida extracción de noticias de https://www.diariodevaldivia.cl/\n",
      "Concluida extracción de noticias de https://www.malleco7.cl/\n",
      "Concluida extracción de noticias de https://www.rioenlinea.cl/\n",
      "Concluida extracción de noticias de https://araucanianoticias.cl/\n",
      "Concluida extracción de noticias de https://diarioelranco.cl/\n",
      "Ha ocurrido un error con https://www.lavozdepaillaco.cl/:\n",
      "'NoneType' object has no attribute 'xpath'\n",
      "Concluida extracción de noticias de https://www.lavozdepaillaco.cl/\n",
      "Concluida extracción de noticias de https://www.diariolaunion.cl/\n",
      "Ha ocurrido un error con https://www.lapaila.cl/:\n",
      "'NoneType' object has no attribute 'xpath'\n",
      "Concluida extracción de noticias de https://www.lapaila.cl/\n",
      "Concluida extracción de noticias de https://www.losriosaldia.cl/\n",
      "Concluida extracción de noticias de https://www.diarioriobueno.cl/\n",
      "Concluida extracción de noticias de https://www.noticiasdellago.cl/\n",
      "Concluida extracción de noticias de https://www.elnaveghable.cl/\n",
      "Concluida extracción de noticias de https://www.elrancaguino.cl/\n",
      "Concluida extracción de noticias de https://www.diariodepuertomontt.cl/\n",
      "Concluida extracción de noticias de https://www.diariopaillaco.cl/\n",
      "Concluida extracción de noticias de https://www.diariochiloe.cl/\n",
      "Concluida extracción de noticias de http://www.eldivisadero.cl/\n",
      "Ha ocurrido un error con https://www.elchelenko.cl/:\n",
      "'NoneType' object has no attribute 'xpath'\n",
      "Concluida extracción de noticias de https://www.elchelenko.cl/\n",
      "Concluida extracción de noticias de https://periodicolosrios.cl/\n",
      "Concluida extracción de noticias de https://www.suractual.cl/\n",
      "Concluida extracción de noticias de http://diariopuertovaras.cl/\n",
      "Concluida extracción de noticias de https://www.eha.cl/\n",
      "Concluida extracción de noticias de https://innovacion.cl/\n",
      "Concluida extracción de noticias de https://www.diariodeosorno.cl/\n",
      "Concluida extracción de noticias de https://www.laizquierdadiario.cl/Chile\n",
      "Concluida extracción de noticias de https://www.noticiaslosrios.cl/\n",
      "Concluida extracción de noticias de https://www.elpinguino.com/\n",
      "Concluida extracción de noticias de https://www.encancha.cl/\n",
      "Concluida extracción de noticias de https://www.diarioregionalaysen.cl/\n",
      "Concluida extracción de noticias de https://www.alairelibre.cl/\n",
      "Concluida extracción de noticias de https://elmagallanico.com/\n",
      "Concluida extracción de noticias de https://www.ladiscusion.cl/\n",
      "Concluida extracción de noticias de https://m.alairelibre.cl/\n",
      "Concluida extracción de noticias de https://laprensaaustral.cl/\n",
      "Concluida extracción de noticias de https://www.cienciaenchile.cl/category/noticias/\n",
      "Concluida extracción de noticias de https://portalinnova.cl/noticias-de-innovacion/\n",
      "Concluida extracción de noticias de https://innovacionchilena.cl/\n"
     ]
    },
    {
     "name": "stderr",
     "output_type": "stream",
     "text": [
      "c:\\Users\\leona\\.virtualenvs\\proyecto_kg_news-rvs_gk5n\\lib\\site-packages\\PIL\\TiffImagePlugin.py:870: UserWarning: Corrupt EXIF data.  Expecting to read 2 bytes but only got 0. \n",
      "  warnings.warn(str(msg))\n",
      "c:\\Users\\leona\\.virtualenvs\\proyecto_kg_news-rvs_gk5n\\lib\\site-packages\\PIL\\TiffImagePlugin.py:870: UserWarning: Truncated File Read\n",
      "  warnings.warn(str(msg))\n"
     ]
    },
    {
     "name": "stdout",
     "output_type": "stream",
     "text": [
      "Concluida extracción de noticias de https://elhuemul.cl/\n",
      "Concluida extracción de noticias de http://web.elpatagondomingo.cl/\n",
      "Concluida extracción de noticias de https://chile.as.com/\n",
      "Concluida extracción de noticias de https://www.diarioviregion.cl/\n"
     ]
    }
   ],
   "source": [
    "with concurrent.futures.ThreadPoolExecutor() as tpe:\n",
    "    results = [tpe.submit(news_extractor_per_media_concurrent, country='chile', media=media, today=today, t_delta=time_delta, conn=conn_postgresql) for media in medias_dict['chile']]"
   ]
  },
  {
   "cell_type": "markdown",
   "metadata": {},
   "source": [
    "# Consultas"
   ]
  },
  {
   "cell_type": "code",
   "execution_count": 4,
   "metadata": {},
   "outputs": [
    {
     "data": {
      "text/plain": [
       "[(1, None),\n",
       " (2, None),\n",
       " (3, None),\n",
       " (4, None),\n",
       " (5, None),\n",
       " (6, None),\n",
       " (7, None),\n",
       " (8, None),\n",
       " (47, None),\n",
       " (48, None),\n",
       " (9, None),\n",
       " (10, None),\n",
       " (11, None),\n",
       " (12, None),\n",
       " (13, None),\n",
       " (14, None),\n",
       " (15, None),\n",
       " (16, None),\n",
       " (17, None),\n",
       " (18, None),\n",
       " (19, None),\n",
       " (575, None),\n",
       " (576, None),\n",
       " (577, None),\n",
       " (578, None),\n",
       " (20, None),\n",
       " (21, None),\n",
       " (22, None),\n",
       " (23, None),\n",
       " (24, None),\n",
       " (25, None),\n",
       " (26, None),\n",
       " (27, None),\n",
       " (28, None),\n",
       " (655, None),\n",
       " (29, None),\n",
       " (30, None),\n",
       " (31, None),\n",
       " (32, None),\n",
       " (33, None),\n",
       " (34, None),\n",
       " (35, None),\n",
       " (36, None),\n",
       " (61, None),\n",
       " (37, None),\n",
       " (38, None),\n",
       " (39, None),\n",
       " (40, None),\n",
       " (77, None),\n",
       " (656, None)]"
      ]
     },
     "execution_count": 4,
     "metadata": {},
     "output_type": "execute_result"
    }
   ],
   "source": [
    "q = '''\n",
    "SELECT id, keywords FROM news_chile LIMIT 50\n",
    "'''\n",
    "cursor = conn_postgresql.cursor()\n",
    "cursor.execute(q)\n",
    "cursor.fetchall()"
   ]
  },
  {
   "cell_type": "markdown",
   "metadata": {},
   "source": [
    "# *textrank*"
   ]
  },
  {
   "cell_type": "code",
   "execution_count": 5,
   "metadata": {},
   "outputs": [
    {
     "ename": "ValueError",
     "evalue": "[E007] 'textrank' already exists in pipeline. Existing names: ['tok2vec', 'morphologizer', 'parser', 'senter', 'attribute_ruler', 'lemmatizer', 'ner', 'textrank']",
     "output_type": "error",
     "traceback": [
      "\u001b[1;31m---------------------------------------------------------------------------\u001b[0m",
      "\u001b[1;31mValueError\u001b[0m                                Traceback (most recent call last)",
      "Cell \u001b[1;32mIn[5], line 1\u001b[0m\n\u001b[1;32m----> 1\u001b[0m \u001b[43mnlp\u001b[49m\u001b[38;5;241;43m.\u001b[39;49m\u001b[43madd_pipe\u001b[49m\u001b[43m(\u001b[49m\u001b[38;5;124;43m\"\u001b[39;49m\u001b[38;5;124;43mtextrank\u001b[39;49m\u001b[38;5;124;43m\"\u001b[39;49m\u001b[43m)\u001b[49m\n\u001b[0;32m      2\u001b[0m q \u001b[38;5;241m=\u001b[39m \u001b[38;5;124m'''\u001b[39m\n\u001b[0;32m      3\u001b[0m \u001b[38;5;124mSELECT id, body FROM news_chile LIMIT 50\u001b[39m\n\u001b[0;32m      4\u001b[0m \u001b[38;5;124m'''\u001b[39m\n\u001b[0;32m      5\u001b[0m cursor \u001b[38;5;241m=\u001b[39m conn_postgresql\u001b[38;5;241m.\u001b[39mcursor()\n",
      "File \u001b[1;32mc:\\Users\\leona\\.virtualenvs\\proyecto_kg_news-rvs_gk5n\\lib\\site-packages\\spacy\\language.py:810\u001b[0m, in \u001b[0;36mLanguage.add_pipe\u001b[1;34m(self, factory_name, name, before, after, first, last, source, config, raw_config, validate)\u001b[0m\n\u001b[0;32m    808\u001b[0m name \u001b[38;5;241m=\u001b[39m name \u001b[38;5;28;01mif\u001b[39;00m name \u001b[38;5;129;01mis\u001b[39;00m \u001b[38;5;129;01mnot\u001b[39;00m \u001b[38;5;28;01mNone\u001b[39;00m \u001b[38;5;28;01melse\u001b[39;00m factory_name\n\u001b[0;32m    809\u001b[0m \u001b[38;5;28;01mif\u001b[39;00m name \u001b[38;5;129;01min\u001b[39;00m \u001b[38;5;28mself\u001b[39m\u001b[38;5;241m.\u001b[39mcomponent_names:\n\u001b[1;32m--> 810\u001b[0m     \u001b[38;5;28;01mraise\u001b[39;00m \u001b[38;5;167;01mValueError\u001b[39;00m(Errors\u001b[38;5;241m.\u001b[39mE007\u001b[38;5;241m.\u001b[39mformat(name\u001b[38;5;241m=\u001b[39mname, opts\u001b[38;5;241m=\u001b[39m\u001b[38;5;28mself\u001b[39m\u001b[38;5;241m.\u001b[39mcomponent_names))\n\u001b[0;32m    811\u001b[0m \u001b[38;5;66;03m# Overriding pipe name in the config is not supported and will be ignored.\u001b[39;00m\n\u001b[0;32m    812\u001b[0m \u001b[38;5;28;01mif\u001b[39;00m \u001b[38;5;124m\"\u001b[39m\u001b[38;5;124mname\u001b[39m\u001b[38;5;124m\"\u001b[39m \u001b[38;5;129;01min\u001b[39;00m config:\n",
      "\u001b[1;31mValueError\u001b[0m: [E007] 'textrank' already exists in pipeline. Existing names: ['tok2vec', 'morphologizer', 'parser', 'senter', 'attribute_ruler', 'lemmatizer', 'ner', 'textrank']"
     ]
    }
   ],
   "source": [
    "nlp.add_pipe(\"textrank\")"
   ]
  },
  {
   "cell_type": "code",
   "execution_count": 7,
   "metadata": {},
   "outputs": [],
   "source": [
    "q = '''\n",
    "SELECT id, body FROM news_chile LIMIT 50\n",
    "'''\n",
    "cursor = conn_postgresql.cursor()\n",
    "cursor.execute(q)\n",
    "example_news = cursor.fetchall()"
   ]
  },
  {
   "cell_type": "code",
   "execution_count": 27,
   "metadata": {},
   "outputs": [],
   "source": [
    "doc = nlp(example_news[15][1])"
   ]
  },
  {
   "cell_type": "code",
   "execution_count": 28,
   "metadata": {},
   "outputs": [
    {
     "name": "stdout",
     "output_type": "stream",
     "text": [
      "text: Partido Republicano\trank: 0.07387075734357695\tcount: 8\n",
      "text: Chile Vamos\trank: 0.07072913315404325\tcount: 3\n",
      "text: Atacama\trank: 0.06212819319225798\tcount: 12\n",
      "text: fuerza\trank: 0.06133806015187843\tcount: 1\n",
      "text: Chile\trank: 0.06077033490871698\tcount: 6\n",
      "text: Meza Pereira\trank: 0.053319621568505046\tcount: 2\n",
      "text: José Carlos Meza Pereira\trank: 0.05281463537715464\tcount: 2\n",
      "text: Gobierno Regional\trank: 0.05118925184548504\tcount: 1\n",
      "text: trabajo\trank: 0.04603686605089563\tcount: 1\n",
      "text: Presidente Arturo Squella\trank: 0.04407530696170517\tcount: 1\n",
      "text: Gobernación Regional\trank: 0.043830450703106934\tcount: 1\n",
      "text: distrito N\trank: 0.04246124685825625\tcount: 1\n",
      "text: Meza\trank: 0.04114013961925024\tcount: 2\n",
      "text: conversaciones\trank: 0.03994705731297133\tcount: 1\n",
      "text: Gobierno\trank: 0.039447237813972524\tcount: 1\n",
      "text: el Partido Republicano\trank: 0.03917588508677192\tcount: 1\n",
      "text: Coquimbo\trank: 0.03909132241567253\tcount: 2\n",
      "text: Republicanos\trank: 0.037618919622052195\tcount: 4\n",
      "text: Demócratas\trank: 0.037019551526014535\tcount: 3\n",
      "text: Gobiernos Regionales\trank: 0.036996377182997434\tcount: 1\n",
      "text: la próxima elección municipal\trank: 0.036896767233984475\tcount: 1\n",
      "text: PDG\trank: 0.03688582623319964\tcount: 1\n",
      "text: Vallenar\trank: 0.036610829716389855\tcount: 4\n",
      "text: estas fuerzas políticas\trank: 0.03637044307424418\tcount: 1\n",
      "text: las fuerzas políticas\trank: 0.03637044307424418\tcount: 1\n",
      "text: partido\trank: 0.03634981835864139\tcount: 2\n",
      "text: la próxima elección parlamentaria\trank: 0.03631071653004447\tcount: 1\n",
      "text: 9 candidatos republicanos\trank: 0.03520270734918387\tcount: 1\n",
      "text: país\trank: 0.03480841479901094\tcount: 2\n",
      "text: un solo candidato\trank: 0.034752983278445615\tcount: 1\n",
      "text: Copiapó\trank: 0.034715688448635595\tcount: 4\n",
      "text: espacios\trank: 0.03469724949224971\tcount: 1\n",
      "text: Región Metropolitana de Santiago\trank: 0.032478708226148977\tcount: 1\n",
      "text: N\trank: 0.032234238932031124\tcount: 1\n",
      "text: República\trank: 0.03190222857998211\tcount: 1\n",
      "text: votos\trank: 0.03157445269202049\tcount: 1\n",
      "text: cara a las próximas elecciones municipales\trank: 0.029787004676956753\tcount: 1\n",
      "text: la educación pública\trank: 0.02958534269704069\tcount: 1\n",
      "text: Ovalle\trank: 0.029447488440668086\tcount: 2\n",
      "text: Región de Coquimbo\trank: 0.028851678995595455\tcount: 1\n",
      "text: alto\trank: 0.02880974115128444\tcount: 1\n",
      "text: entendimientos\trank: 0.02880533414330701\tcount: 1\n",
      "text: político\trank: 0.02834080775886294\tcount: 1\n",
      "text: las fuerzas\trank: 0.028330836432205176\tcount: 1\n",
      "text: otras fuerzas\trank: 0.028330836432205176\tcount: 1\n",
      "text: un daño tremendo\trank: 0.028303545139203724\tcount: 1\n",
      "text: alcaldes\trank: 0.02828533530884133\tcount: 1\n",
      "text: diputada\trank: 0.02808966987222614\tcount: 1\n",
      "text: las futuras elecciones\trank: 0.028043962855646497\tcount: 1\n",
      "text: concejales\trank: 0.027963146904626764\tcount: 1\n",
      "text: disposición\trank: 0.027816659502722874\tcount: 1\n",
      "text: apoyo\trank: 0.027806310267558806\tcount: 1\n",
      "text: Pública\trank: 0.02779104945628373\tcount: 1\n",
      "text: miras\trank: 0.02724214591011378\tcount: 1\n",
      "text: un Gobierno Regional\trank: 0.02714720032785635\tcount: 1\n",
      "text: los candidatos\trank: 0.027107765631970943\tcount: 2\n",
      "text: un candidato\trank: 0.027107765631970943\tcount: 1\n",
      "text: la educación Pública\trank: 0.026364625608289737\tcount: 1\n",
      "text: las candidaturas unipersonales\trank: 0.026177563185541614\tcount: 1\n",
      "text: los desafíos pendientes\trank: 0.026145182332974273\tcount: 1\n",
      "text: 2022-2026\trank: 0.02607693544103858\tcount: 1\n",
      "text: lo largo de Chile\trank: 0.025880174716183448\tcount: 1\n",
      "text: aquellas regiones\trank: 0.025826342137557884\tcount: 1\n",
      "text: la región\trank: 0.025826342137557884\tcount: 3\n",
      "text: Agregó\trank: 0.025036936101015105\tcount: 1\n",
      "text: Vocera de Gobierno\trank: 0.024925741420364734\tcount: 1\n",
      "text: la militancia republicana\trank: 0.024497163220614557\tcount: 1\n",
      "text: Partido Republicano, que estamos desplegados a lo largo de Chile\trank: 0.024334327869392908\tcount: 1\n",
      "text: la Región Metropolitana de Santiago\trank: 0.024018328639738896\tcount: 1\n",
      "text: la oposición\trank: 0.023428223698344294\tcount: 4\n",
      "text: la Gobernación Regional\trank: 0.023244606685972193\tcount: 1\n",
      "text: el daño\trank: 0.023048667308172646\tcount: 1\n",
      "text: mucho daño\trank: 0.023048667308172646\tcount: 1\n",
      "text: como diputado\trank: 0.022959260727785886\tcount: 1\n",
      "text: el diputado\trank: 0.022959260727785886\tcount: 1\n",
      "text: un diputado\trank: 0.022959260727785886\tcount: 1\n",
      "text: una historia importante\trank: 0.022590781774838614\tcount: 1\n",
      "text: representación del distrito\trank: 0.022230662210792684\tcount: 1\n",
      "text: la mala gestión\trank: 0.021714107969591365\tcount: 1\n",
      "text: Ministro de Educación\trank: 0.021682658416912196\tcount: 1\n",
      "text: el trabajo\trank: 0.02126351760570507\tcount: 2\n",
      "text: esa coordinación\trank: 0.0210466826154002\tcount: 1\n",
      "text: la coordinación\trank: 0.0210466826154002\tcount: 1\n",
      "text: una coordinación\trank: 0.0210466826154002\tcount: 1\n",
      "text: el desafío\trank: 0.020824196952936865\tcount: 2\n",
      "text: la educación\trank: 0.02069734413354288\tcount: 1\n",
      "text: las candidaturas\trank: 0.020617767385481666\tcount: 1\n",
      "text: , militante\trank: 0.02032610201475413\tcount: 1\n",
      "text: los militantes\trank: 0.02032610201475413\tcount: 2\n",
      "text: los mejores nombres\trank: 0.020160513950488314\tcount: 1\n",
      "text: dos grandes líneas\trank: 0.019960441627679817\tcount: 1\n",
      "text: la izquierda\trank: 0.01974236080972153\tcount: 2\n",
      "text: una izquierda\trank: 0.01974236080972153\tcount: 1\n",
      "text: una presentación mancomunada\trank: 0.019378957116123228\tcount: 1\n",
      "text: los últimos años\trank: 0.019359953224761525\tcount: 1\n",
      "text: Gobiernos Regionales de las 16 que existen, entendiendo que en otras regiones vamos a ceder el espacio para que sea Chile Vamos, el PDG o Demócratas por ejemplo\trank: 0.019253616158525336\tcount: 1\n",
      "text: las conversaciones\trank: 0.018450755434381926\tcount: 1\n",
      "text: , por ejemplo, 7 posibles candidaturas\trank: 0.018168960256925114\tcount: 1\n",
      "text: Esta visita\trank: 0.017996673593229297\tcount: 1\n",
      "text: la visita\trank: 0.017996673593229297\tcount: 1\n",
      "text: , acercamientos\trank: 0.01796029366007972\tcount: 1\n",
      "text: los acercamientos\trank: 0.01796029366007972\tcount: 1\n",
      "text: través de nuestro Presidente Arturo Squella,\trank: 0.01789968547748817\tcount: 1\n",
      "text: muchos temas\trank: 0.017441399165918834\tcount: 1\n",
      "text: un tema\trank: 0.017441399165918834\tcount: 1\n",
      "text: la colectividad\trank: 0.01717969315646239\tcount: 1\n",
      "text: su colectividad\trank: 0.01717969315646239\tcount: 1\n",
      "text: el PDG\trank: 0.017036833364015656\tcount: 1\n",
      "text: La voluntad política\trank: 0.016736259690615176\tcount: 1\n",
      "text: , y en mi caso no solo como diputado\trank: 0.015326494149563297\tcount: 1\n",
      "text: La intención\trank: 0.015210329759047157\tcount: 1\n",
      "text: la intención\trank: 0.015210329759047157\tcount: 1\n",
      "text: Hoy en día la educación\trank: 0.014841300920327396\tcount: 1\n",
      "text: la República\trank: 0.014735008206721313\tcount: 1\n",
      "text: la materia\trank: 0.01436013908720674\tcount: 1\n",
      "text: el Ministro\trank: 0.014167738419839785\tcount: 1\n",
      "text: la política\trank: 0.014150650988525238\tcount: 1\n",
      "text: la Vocera\trank: 0.014078528485737447\tcount: 1\n",
      "text: un símbolo\trank: 0.014060681938589295\tcount: 1\n",
      "text: la bandera\trank: 0.013822290062131537\tcount: 1\n",
      "text: los niños\trank: 0.013761567909064035\tcount: 1\n",
      "text: El parlamentario\trank: 0.013751898842224667\tcount: 1\n",
      "text: el parlamentario\trank: 0.013751898842224667\tcount: 1\n",
      "text: un presidente\trank: 0.013672201154131822\tcount: 1\n",
      "text: su conjunto\trank: 0.013588481973309224\tcount: 1\n",
      "text: esa generosidad\trank: 0.0135576147838502\tcount: 1\n",
      "text: la Serena\trank: 0.013549478428379816\tcount: 2\n",
      "text: el viernes\trank: 0.013517095564173121\tcount: 1\n",
      "text: la interna\trank: 0.013328388803508638\tcount: 1\n",
      "text: los vecinos\trank: 0.013192478568729446\tcount: 1\n",
      "text: los pre-candidatos\trank: 0.01313316881887103\tcount: 1\n",
      "text: el propósito\trank: 0.013088981701897692\tcount: 1\n",
      "text: un esfuerzo\trank: 0.013017832297166937\tcount: 1\n",
      "text: aquellas cosas\trank: 0.01301492414124609\tcount: 1\n",
      "text: su diferencia\trank: 0.013011552469627036\tcount: 1\n",
      "text: una vez\trank: 0.012973386534254889\tcount: 1\n",
      "text: el sueño\trank: 0.0129312513301756\tcount: 1\n",
      "text: las ciudades\trank: 0.012919764222883923\tcount: 1\n",
      "text: una papeleta\trank: 0.012864043121023797\tcount: 1\n",
      "text: 9 alcaldías\trank: 0.012852077130333242\tcount: 1\n",
      "text: los municipios\trank: 0.01283779450557181\tcount: 1\n",
      "text: los resultados\trank: 0.012831586614970778\tcount: 1\n",
      "text: un mensaje\trank: 0.012822512691028038\tcount: 1\n",
      "text: la ciudadanía\trank: 0.012755322877278243\tcount: 1\n",
      "text: como objeto\trank: 0.012738278384114619\tcount: 1\n",
      "text: este espectro\trank: 0.01269770910771067\tcount: 1\n",
      "text: la idea\trank: 0.012697490438874685\tcount: 1\n",
      "text: , por el periodo legislativo\trank: 0.012623079585846079\tcount: 1\n",
      "text: el norte\trank: 0.012605677301228952\tcount: 1\n",
      "text: el sentido\trank: 0.012542009514661421\tcount: 1\n",
      "text: un mismo pacto\trank: 0.012493987771644306\tcount: 1\n",
      "text: una altura\trank: 0.01237807436118025\tcount: 1\n",
      "text: un liderazgo\trank: 0.012091465015099624\tcount: 1\n",
      "text: una competencia\trank: 0.012029959959753728\tcount: 1\n",
      "text: , en la Región de Coquimbo, con el mismo objetivo\trank: 0.011676632117948246\tcount: 1\n",
      "text: los estudiantes\trank: 0.011007952829594958\tcount: 1\n",
      "text: los comicios\trank: 0.010966424899382867\tcount: 1\n",
      "text: El Diputado\trank: 0.01084164500579858\tcount: 2\n",
      "text: a sus ministros\trank: 0.010016678529693747\tcount: 1\n",
      "text: y el resto\trank: 0.009178954393479412\tcount: 1\n",
      "text: , según su opinión\trank: 0.006788276483903163\tcount: 1\n",
      "text: , sino que como vicepresidente\trank: 0.006582770019601793\tcount: 1\n",
      "text: marzo de 2022,\trank: 0.00657578593374338\tcount: 1\n",
      "text: cada uno\trank: 0.0\tcount: 1\n",
      "text: donde\trank: 0.0\tcount: 2\n",
      "text: ellos\trank: 0.0\tcount: 1\n",
      "text: eso\trank: 0.0\tcount: 3\n",
      "text: esto\trank: 0.0\tcount: 1\n",
      "text: le\trank: 0.0\tcount: 2\n",
      "text: lo\trank: 0.0\tcount: 2\n",
      "text: nosotros\trank: 0.0\tcount: 1\n",
      "text: que\trank: 0.0\tcount: 20\n",
      "text: quienes\trank: 0.0\tcount: 1\n",
      "text: todos\trank: 0.0\tcount: 1\n",
      "text: uno\trank: 0.0\tcount: 1\n"
     ]
    }
   ],
   "source": [
    "for phrase in doc._.phrases:\n",
    "    print(f\"text: {phrase.text}\\trank: {phrase.rank}\\tcount: {phrase.count}\")"
   ]
  },
  {
   "cell_type": "code",
   "execution_count": 24,
   "metadata": {},
   "outputs": [],
   "source": [
    "doc = nlp(example_news[10][1])\n",
    "for phrase in doc._.phrases:\n",
    "    if phrase.text in [token for token in doc if token.is_stop]:\n",
    "        print(\"keyword is stop\")\n",
    "        #print(f\"text: }\\trank: {phrase.rank}\\tcount: {phrase.count}\")"
   ]
  },
  {
   "cell_type": "code",
   "execution_count": 26,
   "metadata": {},
   "outputs": [
    {
     "name": "stdout",
     "output_type": "stream",
     "text": [
      "<class 'str'>\n",
      "<class 'str'>\n",
      "<class 'str'>\n",
      "<class 'str'>\n",
      "<class 'str'>\n",
      "<class 'str'>\n",
      "<class 'str'>\n",
      "<class 'str'>\n",
      "<class 'str'>\n",
      "<class 'str'>\n",
      "<class 'str'>\n",
      "<class 'str'>\n",
      "<class 'str'>\n",
      "<class 'str'>\n",
      "<class 'str'>\n",
      "<class 'str'>\n",
      "<class 'str'>\n",
      "<class 'str'>\n",
      "<class 'str'>\n",
      "<class 'str'>\n",
      "<class 'str'>\n",
      "<class 'str'>\n",
      "<class 'str'>\n",
      "<class 'str'>\n",
      "<class 'str'>\n",
      "<class 'str'>\n",
      "<class 'str'>\n",
      "<class 'str'>\n",
      "<class 'str'>\n",
      "<class 'str'>\n",
      "<class 'str'>\n",
      "<class 'str'>\n",
      "<class 'str'>\n",
      "<class 'str'>\n",
      "<class 'str'>\n",
      "<class 'str'>\n",
      "<class 'str'>\n",
      "<class 'str'>\n",
      "<class 'str'>\n",
      "<class 'str'>\n",
      "<class 'str'>\n",
      "<class 'str'>\n",
      "<class 'str'>\n",
      "<class 'str'>\n",
      "<class 'str'>\n",
      "<class 'str'>\n",
      "<class 'str'>\n",
      "<class 'str'>\n",
      "<class 'str'>\n",
      "<class 'str'>\n",
      "<class 'str'>\n",
      "<class 'str'>\n",
      "<class 'str'>\n",
      "<class 'str'>\n",
      "<class 'str'>\n",
      "<class 'str'>\n",
      "<class 'str'>\n",
      "<class 'str'>\n",
      "<class 'str'>\n",
      "<class 'str'>\n",
      "<class 'str'>\n",
      "<class 'str'>\n",
      "<class 'str'>\n",
      "<class 'str'>\n",
      "<class 'str'>\n",
      "<class 'str'>\n",
      "<class 'str'>\n",
      "<class 'str'>\n",
      "<class 'str'>\n",
      "<class 'str'>\n",
      "<class 'str'>\n",
      "<class 'str'>\n",
      "<class 'str'>\n",
      "<class 'str'>\n",
      "<class 'str'>\n",
      "<class 'str'>\n",
      "<class 'str'>\n",
      "<class 'str'>\n",
      "<class 'str'>\n"
     ]
    }
   ],
   "source": [
    "doc = nlp(example_news[10][1])\n",
    "for phrase in doc._.phrases:\n",
    "    print(type(phrase.text))"
   ]
  },
  {
   "cell_type": "code",
   "execution_count": null,
   "metadata": {},
   "outputs": [],
   "source": []
  }
 ],
 "metadata": {
  "kernelspec": {
   "display_name": "proyecto_kg_news-rvs_gk5n",
   "language": "python",
   "name": "python3"
  },
  "language_info": {
   "codemirror_mode": {
    "name": "ipython",
    "version": 3
   },
   "file_extension": ".py",
   "mimetype": "text/x-python",
   "name": "python",
   "nbconvert_exporter": "python",
   "pygments_lexer": "ipython3",
   "version": "3.9.7"
  }
 },
 "nbformat": 4,
 "nbformat_minor": 2
}
